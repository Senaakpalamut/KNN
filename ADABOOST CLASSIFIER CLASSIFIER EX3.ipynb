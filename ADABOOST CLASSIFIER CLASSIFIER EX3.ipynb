{
 "cells": [
  {
   "cell_type": "code",
   "execution_count": 26,
   "id": "2fe233af",
   "metadata": {},
   "outputs": [
    {
     "name": "stdout",
     "output_type": "stream",
     "text": [
      "Accuracy: 0.8888888888888888\n"
     ]
    }
   ],
   "source": [
    "#ADABOOST CLASSIFIER EX 3 - USING BASE LEARNER; DECISION TREE\n",
    "from sklearn.ensemble import AdaBoostClassifier\n",
    "from sklearn import datasets\n",
    "from sklearn.model_selection import train_test_split\n",
    "from sklearn import metrics\n",
    "\n",
    "#load the data\n",
    "iris=datasets.load_iris()\n",
    "x=iris.data\n",
    "y=iris.target\n",
    "\n",
    "#splitting the dataset\n",
    "x_train, x_test, y_train, y_test = train_test_split(x, y, test_size=0.3)\n",
    "\n",
    "#build the AdaBoost Classifier\n",
    "abc=AdaBoostClassifier(n_estimators=50, learning_rate=1)\n",
    "model=abc.fit(x_train, y_train)\n",
    "y_pred=model.predict(x_test)\n",
    "\n",
    "#evaluate the model\n",
    "print('Accuracy:', metrics.accuracy_score(y_test, y_pred))"
   ]
  },
  {
   "cell_type": "code",
   "execution_count": 44,
   "id": "e4450a79",
   "metadata": {},
   "outputs": [
    {
     "name": "stdout",
     "output_type": "stream",
     "text": [
      "Accuracy: 0.9777777777777777\n"
     ]
    }
   ],
   "source": [
    " #Load libraries\n",
    "from sklearn.ensemble import AdaBoostClassifier\n",
    "from sklearn.model_selection import train_test_split\n",
    "# Import Support Vector Classifier\n",
    "from sklearn.svm import SVC\n",
    "#Import scikit-learn metrics module for accuracy calculation\n",
    "from sklearn import metrics\n",
    "svc=SVC(probability=True, kernel='linear')\n",
    "\n",
    "iris=datasets.load_iris()\n",
    "x2=iris.data\n",
    "y2=iris.target\n",
    "\n",
    "# Create adaboost classifer object\n",
    "abd =AdaBoostClassifier(n_estimators=50, base_estimator=svc,learning_rate=1)\n",
    "xtrain, xtest, ytrain, ytest = train_test_split(x2, y2, test_size=0.3)\n",
    "# Train Adaboost Classifer\n",
    "model3 = abd.fit(xtrain, ytrain)\n",
    "\n",
    "#Predict the response for test dataset\n",
    "y_pred = model3.predict(xtest)\n",
    "\n",
    "\n",
    "# Model Accuracy, how often is the classifier correct?\n",
    "print(\"Accuracy:\",metrics.accuracy_score(ytest, y_pred))\n"
   ]
  },
  {
   "cell_type": "code",
   "execution_count": null,
   "id": "2164106e",
   "metadata": {},
   "outputs": [],
   "source": [
    "#we receive better accuracy SVC base estimator that adaboost itself."
   ]
  },
  {
   "cell_type": "code",
   "execution_count": 65,
   "id": "7e4c1aac",
   "metadata": {},
   "outputs": [
    {
     "name": "stdout",
     "output_type": "stream",
     "text": [
      "Score of Training: %.3f 0.9154929577464789\n",
      "Score of Testing: %.3f 0.916083916083916\n"
     ]
    }
   ],
   "source": [
    "#EXAMPLE4 - DECISION TREES CLASSF. + ADABOOST CLASSF. IMPLEMENTATIONS OF BREAST CANCER \n",
    "#1. DECISION TREE CLASSF.\n",
    "from sklearn.tree import DecisionTreeClassifier\n",
    "from sklearn.model_selection import train_test_split\n",
    "from sklearn import datasets\n",
    "from sklearn.svm import SVC\n",
    "from sklearn.preprocessing import StandardScaler\n",
    "from sklearn.pipeline import make_pipeline\n",
    "\n",
    "bc= datasets.load_breast_cancer()\n",
    "xx=bc.data\n",
    "yy=bc.target\n",
    "\n",
    "train_x, test_x, train_y, test_y = train_test_split(xx, yy, test_size=0.25, random_state=1, stratify=yy)\n",
    "\n",
    "#pipeline estimator\n",
    "pipeline=make_pipeline(StandardScaler(), DecisionTreeClassifier(criterion= 'entropy', max_depth=1\n",
    "                                                               ,random_state=1))\n",
    "#fit the model\n",
    "pipeline.fit(train_x, train_y)\n",
    "#calculating the scores\n",
    "print('Score of Training: %.3f', pipeline.score(train_x, train_y))\n",
    "print('Score of Testing: %.3f', pipeline.score(test_x, test_y))"
   ]
  },
  {
   "cell_type": "code",
   "execution_count": 71,
   "id": "f63d88ee",
   "metadata": {},
   "outputs": [
    {
     "name": "stdout",
     "output_type": "stream",
     "text": [
      "Test scores2: %.3f 0.9370629370629371\n",
      "Train scores2: %.3f 0.9225352112676056\n"
     ]
    }
   ],
   "source": [
    "#2. ADABOOST CLASSF.\n",
    "from sklearn.ensemble import AdaBoostClassifier\n",
    "#standardize the dataset\n",
    "sc=StandardScaler()\n",
    "x_train_std=sc.fit_transform(train_x)\n",
    "x_test_std=sc.transform(test_x)\n",
    "\n",
    "#create a decision tree classf\n",
    "dtree=DecisionTreeClassifier(criterion='entropy', max_depth=1, random_state=1)\n",
    "\n",
    "#initiate the adaboost\n",
    "adaboost=AdaBoostClassifier(base_estimator=dtree, n_estimators=100, learning_rate=0.0005, \n",
    "                           algorithm='SAMME', random_state=1)\n",
    "#fitting the adaboost classifier\n",
    "adaboost.fit(train_x, train_y)\n",
    "\n",
    "#print the scores\n",
    "print('Test scores2: %.3f', adaboost.score(test_x, test_y))\n",
    "print('Train scores2: %.3f', adaboost.score(train_x, train_y))"
   ]
  },
  {
   "cell_type": "code",
   "execution_count": null,
   "id": "1a20fcae",
   "metadata": {},
   "outputs": [],
   "source": [
    "#we receive better accuracy scores by Adaboost classf than decision tree classf."
   ]
  }
 ],
 "metadata": {
  "kernelspec": {
   "display_name": "Python 3 (ipykernel)",
   "language": "python",
   "name": "python3"
  },
  "language_info": {
   "codemirror_mode": {
    "name": "ipython",
    "version": 3
   },
   "file_extension": ".py",
   "mimetype": "text/x-python",
   "name": "python",
   "nbconvert_exporter": "python",
   "pygments_lexer": "ipython3",
   "version": "3.9.12"
  }
 },
 "nbformat": 4,
 "nbformat_minor": 5
}
